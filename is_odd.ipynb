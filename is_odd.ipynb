{
 "cells": [
  {
   "cell_type": "code",
   "execution_count": 8,
   "id": "1c371569-9964-4efd-890f-aab6e1976fed",
   "metadata": {},
   "outputs": [
    {
     "data": {
      "text/plain": [
       "False"
      ]
     },
     "execution_count": 8,
     "metadata": {},
     "output_type": "execute_result"
    }
   ],
   "source": [
    "\n",
    "def is_odd(x):\n",
    "    \"\"\"\n",
    "    - Check is interger is provided\n",
    "    - CHeck if integer is odd\n",
    "    \"\"\"\n",
    "    if not isinstance(x, int):\n",
    "        raise TypeError(\"Please input an integer\")\n",
    "    else:\n",
    "        return (x % 2 != 0)\n",
    "\n",
    "\n",
    "is_odd(2)"
   ]
  },
  {
   "cell_type": "code",
   "execution_count": null,
   "id": "506163e4-35d6-43b9-ae65-0f7a2fa7a8d4",
   "metadata": {},
   "outputs": [],
   "source": []
  }
 ],
 "metadata": {
  "kernelspec": {
   "display_name": "Python 3 (ipykernel)",
   "language": "python",
   "name": "python3"
  },
  "language_info": {
   "codemirror_mode": {
    "name": "ipython",
    "version": 3
   },
   "file_extension": ".py",
   "mimetype": "text/x-python",
   "name": "python",
   "nbconvert_exporter": "python",
   "pygments_lexer": "ipython3",
   "version": "3.7.4"
  }
 },
 "nbformat": 4,
 "nbformat_minor": 5
}
