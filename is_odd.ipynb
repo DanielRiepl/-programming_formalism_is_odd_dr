{
 "cells": [
  {
   "cell_type": "code",
   "execution_count": 1,
   "id": "1c371569-9964-4efd-890f-aab6e1976fed",
   "metadata": {},
   "outputs": [
    {
     "ename": "TypeError",
     "evalue": "is_odd() missing 1 required positional argument: 'x'",
     "output_type": "error",
     "traceback": [
      "\u001b[0;31m---------------------------------------------------------------------------\u001b[0m",
      "\u001b[0;31mTypeError\u001b[0m                                 Traceback (most recent call last)",
      "\u001b[0;32m/tmp/ipykernel_18038/1690187911.py\u001b[0m in \u001b[0;36m<module>\u001b[0;34m\u001b[0m\n\u001b[1;32m      3\u001b[0m \u001b[0;34m\u001b[0m\u001b[0m\n\u001b[1;32m      4\u001b[0m \u001b[0;34m\u001b[0m\u001b[0m\n\u001b[0;32m----> 5\u001b[0;31m \u001b[0mis_odd\u001b[0m\u001b[0;34m(\u001b[0m\u001b[0;34m)\u001b[0m\u001b[0;34m\u001b[0m\u001b[0;34m\u001b[0m\u001b[0m\n\u001b[0m",
      "\u001b[0;31mTypeError\u001b[0m: is_odd() missing 1 required positional argument: 'x'"
     ]
    }
   ],
   "source": [
    "\n",
    "def is_odd(x):\n",
    "    \"\"\"\n",
    "    - Check is interger is provided\n",
    "    - CHeck if integer is odd\n",
    "    \"\"\"\n",
    "    return()\n",
    "\n",
    "\n",
    "is_odd()"
   ]
  },
  {
   "cell_type": "code",
   "execution_count": null,
   "id": "506163e4-35d6-43b9-ae65-0f7a2fa7a8d4",
   "metadata": {},
   "outputs": [],
   "source": []
  }
 ],
 "metadata": {
  "kernelspec": {
   "display_name": "Python 3 (ipykernel)",
   "language": "python",
   "name": "python3"
  },
  "language_info": {
   "codemirror_mode": {
    "name": "ipython",
    "version": 3
   },
   "file_extension": ".py",
   "mimetype": "text/x-python",
   "name": "python",
   "nbconvert_exporter": "python",
   "pygments_lexer": "ipython3",
   "version": "3.7.4"
  }
 },
 "nbformat": 4,
 "nbformat_minor": 5
}
